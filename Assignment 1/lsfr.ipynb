{
 "cells": [
  {
   "cell_type": "code",
   "execution_count": 6,
   "metadata": {},
   "outputs": [],
   "source": [
    "from LFSR import LFSR"
   ]
  },
  {
   "cell_type": "markdown",
   "metadata": {},
   "source": [
    "# Basic LFSR Implementation"
   ]
  },
  {
   "cell_type": "code",
   "execution_count": 7,
   "metadata": {},
   "outputs": [
    {
     "name": "stdout",
     "output_type": "stream",
     "text": [
      "Step\t: 0\tState\t:[0, 1, 1, 0]\n",
      "Step\t: 1\tState\t:[0, 0, 1, 1]\tOutput: 0\n",
      "Step\t: 2\tState\t:[1, 0, 0, 1]\tOutput: 1\n",
      "Step\t: 3\tState\t:[0, 1, 0, 0]\tOutput: 1\n",
      "Step\t: 4\tState\t:[0, 0, 1, 0]\tOutput: 0\n",
      "Step\t: 5\tState\t:[0, 0, 0, 1]\tOutput: 0\n",
      "Step\t: 6\tState\t:[1, 0, 0, 0]\tOutput: 1\n",
      "Step\t: 7\tState\t:[1, 1, 0, 0]\tOutput: 0\n",
      "Step\t: 8\tState\t:[1, 1, 1, 0]\tOutput: 0\n",
      "Step\t: 9\tState\t:[1, 1, 1, 1]\tOutput: 0\n",
      "Step\t: 10\tState\t:[0, 1, 1, 1]\tOutput: 1\n",
      "Step\t: 11\tState\t:[1, 0, 1, 1]\tOutput: 1\n",
      "Step\t: 12\tState\t:[0, 1, 0, 1]\tOutput: 1\n",
      "Step\t: 13\tState\t:[1, 0, 1, 0]\tOutput: 1\n",
      "Step\t: 14\tState\t:[1, 1, 0, 1]\tOutput: 0\n",
      "Step\t: 15\tState\t:[0, 1, 1, 0]\tOutput: 1\n",
      "Step\t: 16\tState\t:[0, 0, 1, 1]\tOutput: 0\n",
      "Step\t: 17\tState\t:[1, 0, 0, 1]\tOutput: 1\n",
      "Step\t: 18\tState\t:[0, 1, 0, 0]\tOutput: 1\n",
      "Step\t: 19\tState\t:[0, 0, 1, 0]\tOutput: 0\n",
      "Step\t: 20\tState\t:[0, 0, 0, 1]\tOutput: 0\n",
      "Output: [0, 1, 1, 0, 0, 1, 0, 0, 0, 1, 1, 1, 1, 0, 1, 0, 1, 1, 0, 0]\n"
     ]
    }
   ],
   "source": [
    "lfsr = LFSR(register_size=4, state=[0, 1, 1, 0], taps=[0, 3])\n",
    "output = lfsr.run(20)\n",
    "print(\"Output:\", output)"
   ]
  },
  {
   "cell_type": "markdown",
   "metadata": {},
   "source": [
    "# General (Reconfigurable) LFSR"
   ]
  },
  {
   "cell_type": "code",
   "execution_count": 8,
   "metadata": {},
   "outputs": [
    {
     "name": "stdout",
     "output_type": "stream",
     "text": [
      "Step\t: 0\tState\t:[0, 1, 1, 1]\n",
      "Step\t: 1\tState\t:[1, 0, 1, 1]\tOutput: 1\n",
      "Step\t: 2\tState\t:[0, 1, 0, 1]\tOutput: 1\n",
      "Step\t: 3\tState\t:[1, 0, 1, 0]\tOutput: 1\n",
      "Step\t: 4\tState\t:[1, 1, 0, 1]\tOutput: 0\n",
      "Step\t: 5\tState\t:[0, 1, 1, 0]\tOutput: 1\n",
      "Step\t: 6\tState\t:[0, 0, 1, 1]\tOutput: 0\n",
      "Step\t: 7\tState\t:[1, 0, 0, 1]\tOutput: 1\n",
      "Step\t: 8\tState\t:[0, 1, 0, 0]\tOutput: 1\n",
      "Step\t: 9\tState\t:[0, 0, 1, 0]\tOutput: 0\n",
      "Step\t: 10\tState\t:[0, 0, 0, 1]\tOutput: 0\n",
      "Step\t: 11\tState\t:[1, 0, 0, 0]\tOutput: 1\n",
      "Step\t: 12\tState\t:[1, 1, 0, 0]\tOutput: 0\n",
      "Step\t: 13\tState\t:[1, 1, 1, 0]\tOutput: 0\n",
      "Step\t: 14\tState\t:[1, 1, 1, 1]\tOutput: 0\n",
      "Step\t: 15\tState\t:[0, 1, 1, 1]\tOutput: 1\n",
      "Step\t: 16\tState\t:[1, 0, 1, 1]\tOutput: 1\n",
      "Step\t: 17\tState\t:[0, 1, 0, 1]\tOutput: 1\n",
      "Step\t: 18\tState\t:[1, 0, 1, 0]\tOutput: 1\n",
      "Step\t: 19\tState\t:[1, 1, 0, 1]\tOutput: 0\n",
      "Step\t: 20\tState\t:[0, 1, 1, 0]\tOutput: 1\n",
      "Output: [1, 1, 1, 0, 1, 0, 1, 1, 0, 0, 1, 0, 0, 0, 1, 1, 1, 1, 0, 1]\n"
     ]
    }
   ],
   "source": [
    "lfsr = LFSR(register_size=4, state=[0, 1, 1, 1], taps=[0, 3])\n",
    "output = lfsr.run(20)\n",
    "print(\"Output:\", output)"
   ]
  },
  {
   "cell_type": "markdown",
   "metadata": {},
   "source": [
    "## Getting and setting register size"
   ]
  },
  {
   "cell_type": "code",
   "execution_count": 9,
   "metadata": {},
   "outputs": [
    {
     "name": "stdout",
     "output_type": "stream",
     "text": [
      "Before: [0, 1, 1, 0]\n",
      "After: [0, 1, 1]\n"
     ]
    }
   ],
   "source": [
    "print(f'Before: {lfsr.get_state()}')\n",
    "lfsr.set_register_size(3)\n",
    "print(f'After: {lfsr.get_state()}')"
   ]
  },
  {
   "cell_type": "markdown",
   "metadata": {},
   "source": [
    "## Getting and setting taps"
   ]
  },
  {
   "cell_type": "code",
   "execution_count": 10,
   "metadata": {},
   "outputs": [
    {
     "name": "stdout",
     "output_type": "stream",
     "text": [
      "Before: [0, 3]\n",
      "After: [0, 2]\n"
     ]
    }
   ],
   "source": [
    "print(f'Before: {lfsr.get_taps()}')\n",
    "lfsr.set_taps([0, 2])\n",
    "print(f'After: {lfsr.get_taps()}')"
   ]
  },
  {
   "cell_type": "markdown",
   "metadata": {},
   "source": [
    "## Getting and setting state"
   ]
  },
  {
   "cell_type": "code",
   "execution_count": 11,
   "metadata": {},
   "outputs": [
    {
     "name": "stdout",
     "output_type": "stream",
     "text": [
      "Before: [0, 1, 1]\n",
      "After: [0, 1, 1]\n"
     ]
    }
   ],
   "source": [
    "print(f'Before: {lfsr.get_state()}')\n",
    "lfsr.set_state([0, 1, 1])\n",
    "print(f'After: {lfsr.get_state()}')"
   ]
  },
  {
   "cell_type": "code",
   "execution_count": 12,
   "metadata": {},
   "outputs": [
    {
     "name": "stdout",
     "output_type": "stream",
     "text": [
      "Step\t: 0\tState\t:[0, 1, 1]\n",
      "Step\t: 1\tState\t:[1, 0, 1]\tOutput: 1\n",
      "Step\t: 2\tState\t:[0, 1, 0]\tOutput: 1\n",
      "Step\t: 3\tState\t:[0, 0, 1]\tOutput: 0\n",
      "Step\t: 4\tState\t:[1, 0, 0]\tOutput: 1\n",
      "Step\t: 5\tState\t:[1, 1, 0]\tOutput: 0\n",
      "Step\t: 6\tState\t:[1, 1, 1]\tOutput: 0\n",
      "Step\t: 7\tState\t:[0, 1, 1]\tOutput: 1\n",
      "Step\t: 8\tState\t:[1, 0, 1]\tOutput: 1\n",
      "Step\t: 9\tState\t:[0, 1, 0]\tOutput: 1\n",
      "Step\t: 10\tState\t:[0, 0, 1]\tOutput: 0\n",
      "Step\t: 11\tState\t:[1, 0, 0]\tOutput: 1\n",
      "Step\t: 12\tState\t:[1, 1, 0]\tOutput: 0\n",
      "Output: [1, 1, 0, 1, 0, 0, 1, 1, 1, 0, 1, 0]\n"
     ]
    }
   ],
   "source": [
    "output = lfsr.run(12)\n",
    "print(\"Output:\", output)"
   ]
  },
  {
   "cell_type": "markdown",
   "metadata": {},
   "source": [
    "# Reset register to initial state"
   ]
  },
  {
   "cell_type": "code",
   "execution_count": 13,
   "metadata": {},
   "outputs": [
    {
     "name": "stdout",
     "output_type": "stream",
     "text": [
      "Before: [1, 1, 0]\n",
      "Reset\t: State\t:[0, 1, 1, 1]\n",
      "After: [0, 1, 1, 1]\n"
     ]
    }
   ],
   "source": [
    "print(f'Before: {lfsr.get_state()}')\n",
    "lfsr.reset()\n",
    "print(f'After: {lfsr.get_state()}')"
   ]
  },
  {
   "cell_type": "code",
   "execution_count": 14,
   "metadata": {},
   "outputs": [
    {
     "name": "stdout",
     "output_type": "stream",
     "text": [
      "Step\t: 0\tState\t:[0, 1, 1, 1]\n",
      "Step\t: 1\tState\t:[1, 0, 1, 1]\tOutput: 1\n",
      "Step\t: 2\tState\t:[0, 1, 0, 1]\tOutput: 1\n",
      "Step\t: 3\tState\t:[1, 0, 1, 0]\tOutput: 1\n",
      "Step\t: 4\tState\t:[1, 1, 0, 1]\tOutput: 0\n",
      "Step\t: 5\tState\t:[0, 1, 1, 0]\tOutput: 1\n",
      "Step\t: 6\tState\t:[0, 0, 1, 1]\tOutput: 0\n",
      "Step\t: 7\tState\t:[1, 0, 0, 1]\tOutput: 1\n",
      "Step\t: 8\tState\t:[0, 1, 0, 0]\tOutput: 1\n",
      "Step\t: 9\tState\t:[0, 0, 1, 0]\tOutput: 0\n",
      "Step\t: 10\tState\t:[0, 0, 0, 1]\tOutput: 0\n",
      "Output: [1, 1, 1, 0, 1, 0, 1, 1, 0, 0]\n"
     ]
    }
   ],
   "source": [
    "output = lfsr.run(10)\n",
    "print(\"Output:\", output)"
   ]
  }
 ],
 "metadata": {
  "kernelspec": {
   "display_name": "Python 3",
   "language": "python",
   "name": "python3"
  },
  "language_info": {
   "codemirror_mode": {
    "name": "ipython",
    "version": 3
   },
   "file_extension": ".py",
   "mimetype": "text/x-python",
   "name": "python",
   "nbconvert_exporter": "python",
   "pygments_lexer": "ipython3",
   "version": "3.10.12"
  }
 },
 "nbformat": 4,
 "nbformat_minor": 2
}
